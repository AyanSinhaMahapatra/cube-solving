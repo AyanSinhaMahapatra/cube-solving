{
 "cells": [
  {
   "cell_type": "code",
   "execution_count": 76,
   "metadata": {},
   "outputs": [],
   "source": [
    "import copy\n",
    "\n",
    "\n",
    "cube_row = 3\n",
    "cube_column = 3\n",
    "cube_faces = 6\n",
    "\n",
    "class Cube:\n",
    "\n",
    "    Rubic = [[['W' for r in range(cube_row)] for c in range(cube_column)] for f in range(cube_faces)]\n",
    "\n",
    "    Rubic_W = [['W' for rw in range(cube_row)] for cw in range(cube_column)]\n",
    "    Rubic[0] = Rubic_W\n",
    "    Rubic_W_links={'UP':'B','DOWN':'G','LEFT':'O','RIGHT':'R','FRONT':'W','BACK':'Y'}\n",
    "    Rubic_W_adj = 'BRGOB'\n",
    "\n",
    "    Rubic_R = [['R' for rr in range(cube_row)] for cr in range(cube_column)]\n",
    "    Rubic[1] = Rubic_R\n",
    "    Rubic_R_links={'UP':'W','DOWN':'Y','LEFT':'G','RIGHT':'B','FRONT':'R','BACK':'O'}\n",
    "    Rubic_R_adj = 'WBYGW'\n",
    "\n",
    "    Rubic_G = [['G' for rg in range(cube_row)] for cg in range(cube_column)]\n",
    "    Rubic[2] = Rubic_G\n",
    "    Rubic_G_links={'UP':'W','DOWN':'Y','LEFT':'O','RIGHT':'R','FRONT':'G','BACK':'B'}\n",
    "    Rubic_G_adj = 'WRYOW'\n",
    "\n",
    "    Rubic_O = [['O' for ro in range(cube_row)] for co in range(cube_column)]\n",
    "    Rubic[3] = Rubic_O\n",
    "    Rubic_O_links={'UP':'Y','DOWN':'W','LEFT':'G','RIGHT':'B','FRONT':'O','BACK':'R'}\n",
    "    Rubic_O_adj = 'YBWGY'\n",
    "\n",
    "    Rubic_B = [['B' for rb in range(cube_row)] for cb in range(cube_column)]\n",
    "    Rubic[4] = Rubic_B\n",
    "    Rubic_B_links={'UP':'Y','DOWN':'W','LEFT':'O','RIGHT':'R','FRONT':'B','BACK':'G'}\n",
    "    Rubic_B_adj = 'YRWOY'\n",
    "\n",
    "    Rubic_Y = [['Y' for ry in range(cube_row)] for cy in range(cube_column)]\n",
    "    Rubic[5] = Rubic_Y\n",
    "    Rubic_Y_links={'UP':'G','DOWN':'B','LEFT':'O','RIGHT':'R','FRONT':'Y','BACK':'W'}\n",
    "    Rubic_Y_adj = 'GRBOG'\n",
    "\n",
    "    move_center = [['E' for rm in range(cube_row)] for cm in range(cube_column)]\n",
    "    move_side = [['E' for rms in range(cube_row)] for cms in range(cube_column+1)]\n",
    "    move_ref = {'UP':'E','DOWN':'E','LEFT':'E','RIGHT':'E','FRONT' : 'E','BACK' : 'E'}\n",
    "    move_center_id = 'E'\n",
    "    move_dir = 'E'\n",
    "    move_conversion = {'U':'UP','D':'DOWN','L':'LEFT','R':'RIGHT','F':'FRONT','B':'BACK'}\n",
    "\n",
    "    move_side_index = [[[ 5 for x in range(2)] for y in range(3)] for z in range(4)]\n",
    "\n",
    "    rubic_switcher = {\n",
    "            'W': 0,\n",
    "            'R': 1,\n",
    "            'G': 2,\n",
    "            'O': 3,\n",
    "            'B': 4,\n",
    "            'Y': 5,\n",
    "    }\n",
    "\n",
    "    index_switcher = {\n",
    "            'UP'    : [[0,2], [0,1], [0,0]],\n",
    "            'RIGHT' : [[2,2], [1,2], [0,2]],\n",
    "            'DOWN'  : [[2,0], [2,1], [2,2]],\n",
    "            'LEFT'  : [[0,0], [1,0], [2,0]],\n",
    "    }\n",
    "\n",
    "    switcher_adj = {\n",
    "            'W': Rubic_W_adj,\n",
    "            'R': Rubic_R_adj,\n",
    "            'G': Rubic_G_adj,\n",
    "            'O': Rubic_O_adj,\n",
    "            'B': Rubic_B_adj,\n",
    "            'Y': Rubic_Y_adj,\n",
    "    }\n",
    "\n",
    "    switcher_links = {\n",
    "            'W': Rubic_W_links,\n",
    "            'R': Rubic_R_links,\n",
    "            'G': Rubic_G_links,\n",
    "            'O': Rubic_O_links,\n",
    "            'B': Rubic_B_links,\n",
    "            'Y': Rubic_Y_links,\n",
    "    }\n",
    "\n",
    "    switcher_order_side= {\n",
    "            0 : 'UP',\n",
    "            1 : 'RIGHT',\n",
    "            2 : 'DOWN',\n",
    "            3 : 'LEFT',\n",
    "    }\n",
    "\n",
    "    cent_index = [[2, 0, 0, 0], [1, 0, 0, 1], [0, 0, 0, 2], [0, 1, 1, 2], [0, 2, 2, 2],\n",
    "                  [1, 2, 2, 1], [2, 2, 2, 0], [2, 1, 1, 0], [1, 1, 1, 1]]\n",
    "\n",
    "\n",
    "    def print_Cube(self):\n",
    "\n",
    "        for sides in range(6):\n",
    "            print(self.Rubic[sides][0])\n",
    "            print(self.Rubic[sides][1])\n",
    "            print(self.Rubic[sides][2])\n",
    "            print(\"\\n\")\n",
    "\n",
    "\n",
    "    def get_opp_center_block(self,center_block_id):\n",
    "\n",
    "        switcher = {\n",
    "            'W': 'Y',\n",
    "            'R': 'O',\n",
    "            'G': 'B',\n",
    "            'O': 'R',\n",
    "            'B': 'G',\n",
    "            'Y': 'W',\n",
    "        }\n",
    "\n",
    "        return switcher.get(center_block_id, \"E\")\n",
    "\n",
    "\n",
    "    def get_right_or_left_center_block(self,request ,ref_center, ref_up_center):\n",
    "\n",
    "        right_center = 'E'\n",
    "        left_center = 'E'\n",
    "        adj_squares = self.switcher_adj.get(ref_center, \"E\")\n",
    "\n",
    "        for elements in range(5):\n",
    "            if ref_up_center is adj_squares[elements]:\n",
    "                right_center = adj_squares[elements + 1]\n",
    "                if elements is 0:\n",
    "                    left_center = adj_squares[3]\n",
    "                else:\n",
    "                    left_center = adj_squares[elements - 1]\n",
    "                break\n",
    "        if request is 'RIGHT':\n",
    "            return right_center\n",
    "        elif request is 'LEFT':\n",
    "            return left_center\n",
    "\n",
    "\n",
    "    def update_move_ref(self):\n",
    "\n",
    "        links_sides = self.switcher_links.get(self.move_center_id, \"E\")\n",
    "\n",
    "        self.move_ref['FRONT'] = links_sides['FRONT']\n",
    "        self.move_ref['BACK'] = links_sides['BACK']\n",
    "        self.move_ref['UP'] = links_sides['UP']\n",
    "        self.move_ref['DOWN'] = links_sides['DOWN']\n",
    "        self.move_ref['LEFT'] = links_sides['LEFT']\n",
    "        self.move_ref['RIGHT'] = links_sides['RIGHT']\n",
    "\n",
    "    def perform_move_center(self):\n",
    "\n",
    "        rubic_select = self.rubic_switcher.get(self.move_center_id, \"E\")\n",
    "        self.move_center = copy.deepcopy(self.Rubic[rubic_select])\n",
    "\n",
    "        if (self.move_dir is 'A'):\n",
    "            for index in range(0, 9):\n",
    "                self.Rubic[rubic_select][self.cent_index[index][0]][self.cent_index[index][1]] = self.move_center[self.cent_index[index][2]][self.cent_index[index][3]]\n",
    "        elif (self.move_dir is 'C'):\n",
    "            for index in range(0, 9):\n",
    "                self.Rubic[rubic_select][self.cent_index[index][2]][self.cent_index[index][3]] = self.move_center[self.cent_index[index][0]][self.cent_index[index][1]]\n",
    "\n",
    "\n",
    "    def find_rev_corr(self,curr_side_col,ref_side):\n",
    "\n",
    "        ref_col = self.move_ref[ref_side]\n",
    "        ref_links = self.switcher_links.get(ref_col, \"E\")\n",
    "        ref_inv_links = {v: k for k, v in ref_links.items()}\n",
    "        corr_ret = ref_inv_links[curr_side_col]\n",
    "\n",
    "        return corr_ret\n",
    "\n",
    "\n",
    "    def get_move_side_index(self):\n",
    "\n",
    "        curr_side_col = self.move_center_id\n",
    "\n",
    "        for side in range(4):\n",
    "            ref_side = self.switcher_order_side.get(side, \"E\")\n",
    "            corr = self.find_rev_corr(curr_side_col,ref_side)\n",
    "\n",
    "            self.move_side_index[side] = self.index_switcher.get(corr, \"E\")\n",
    "\n",
    "    def perform_move_sides(self):\n",
    "\n",
    "        self.get_move_side_index()\n",
    "\n",
    "        # Move from Cube by using move_side_index to move_sides\n",
    "        for side in range(4):\n",
    "            for loc in range(3):\n",
    "                rubic_col_index = self.rubic_switcher.get(self.move_ref[self.switcher_order_side.get(side, \"E\")], \"E\")\n",
    "                self.move_side[side][loc] = self.Rubic[rubic_col_index][self.move_side_index[side][loc][0]][self.move_side_index[side][loc][1]]\n",
    "\n",
    "        # Move from move_sides to Cube by using move_side_index\n",
    "        if(self.move_dir is 'C'):\n",
    "            for side in range(4):\n",
    "                for loc in range(3):\n",
    "                    clockwise_rotation = (side + 1) % 4\n",
    "                    rubic_col_index = self.rubic_switcher.get(self.move_ref[self.switcher_order_side.get(clockwise_rotation, \"E\")], \"E\")\n",
    "                    self.Rubic[rubic_col_index][self.move_side_index[clockwise_rotation][loc][0]][self.move_side_index[clockwise_rotation][loc][1]] = self.move_side[side][loc]\n",
    "        elif(self.move_dir is 'A'):\n",
    "            for side in range(4):\n",
    "                for loc in range(3):\n",
    "                    anticlockwise_rotation = (side + 3) % 4\n",
    "                    rubic_col_index = self.rubic_switcher.get(self.move_ref[self.switcher_order_side.get(anticlockwise_rotation, \"E\")], \"E\")\n",
    "                    self.Rubic[rubic_col_index][self.move_side_index[anticlockwise_rotation][loc][0]][self.move_side_index[anticlockwise_rotation][loc][1]] = self.move_side[side][loc]\n",
    "\n",
    "    def make_move(self,ref_center,ref_up_center,move_id_given):\n",
    "\n",
    "        # The Main Function where the move is perform\n",
    "        self.move_dir = 'C'\n",
    "        move_id_make = move_id_given[0]\n",
    "\n",
    "        if len(move_id_given) is 2:\n",
    "            self.move_dir = 'A'\n",
    "\n",
    "        self.move_ref['FRONT'] = ref_center\n",
    "        self.move_ref['BACK']  = self.get_opp_center_block(ref_center)\n",
    "        self.move_ref['UP']    = ref_up_center\n",
    "        self.move_ref['DOWN']  = self.get_opp_center_block(ref_up_center)\n",
    "        self.move_ref['LEFT']  = self.get_right_or_left_center_block('LEFT', ref_center,ref_up_center)\n",
    "        self.move_ref['RIGHT'] = self.get_right_or_left_center_block('RIGHT', ref_center,ref_up_center)\n",
    "\n",
    "        self.move_center_id = self.move_ref[self.move_conversion[move_id_make]]\n",
    "\n",
    "        self.update_move_ref()\n",
    "\n",
    "        self.perform_move_center()\n",
    "\n",
    "        self.perform_move_sides()\n"
   ]
  },
  {
   "cell_type": "code",
   "execution_count": 77,
   "metadata": {},
   "outputs": [],
   "source": [
    "ex_cube = Cube()"
   ]
  },
  {
   "cell_type": "code",
   "execution_count": 78,
   "metadata": {},
   "outputs": [
    {
     "data": {
      "text/plain": [
       "[[['W', 'W', 'W'], ['W', 'W', 'W'], ['W', 'W', 'W']],\n",
       " [['R', 'R', 'R'], ['R', 'R', 'R'], ['R', 'R', 'R']],\n",
       " [['G', 'G', 'G'], ['G', 'G', 'G'], ['G', 'G', 'G']],\n",
       " [['O', 'O', 'O'], ['O', 'O', 'O'], ['O', 'O', 'O']],\n",
       " [['B', 'B', 'B'], ['B', 'B', 'B'], ['B', 'B', 'B']],\n",
       " [['Y', 'Y', 'Y'], ['Y', 'Y', 'Y'], ['Y', 'Y', 'Y']]]"
      ]
     },
     "execution_count": 78,
     "metadata": {},
     "output_type": "execute_result"
    }
   ],
   "source": [
    "ex_cube.Rubic"
   ]
  },
  {
   "cell_type": "code",
   "execution_count": 79,
   "metadata": {},
   "outputs": [
    {
     "data": {
      "text/plain": [
       "[[['W', 'W', 'G'], ['W', 'W', 'G'], ['W', 'W', 'G']],\n",
       " [['R', 'R', 'R'], ['R', 'R', 'R'], ['R', 'R', 'R']],\n",
       " [['G', 'G', 'Y'], ['G', 'G', 'Y'], ['G', 'G', 'Y']],\n",
       " [['O', 'O', 'O'], ['O', 'O', 'O'], ['O', 'O', 'O']],\n",
       " [['B', 'B', 'W'], ['B', 'B', 'W'], ['B', 'B', 'W']],\n",
       " [['Y', 'Y', 'B'], ['Y', 'Y', 'B'], ['Y', 'Y', 'B']]]"
      ]
     },
     "execution_count": 79,
     "metadata": {},
     "output_type": "execute_result"
    }
   ],
   "source": [
    "\n",
    "ex_cube.make_move('G','W','R')\n",
    "ex_cube.Rubic"
   ]
  },
  {
   "cell_type": "code",
   "execution_count": 80,
   "metadata": {},
   "outputs": [
    {
     "data": {
      "text/plain": [
       "[[['W', 'W', 'W'], ['W', 'W', 'W'], ['G', 'G', 'G']],\n",
       " [['W', 'B', 'B'], ['R', 'R', 'R'], ['R', 'R', 'R']],\n",
       " [['R', 'R', 'R'], ['G', 'G', 'Y'], ['G', 'G', 'Y']],\n",
       " [['O', 'O', 'O'], ['O', 'O', 'O'], ['Y', 'G', 'G']],\n",
       " [['B', 'B', 'W'], ['B', 'B', 'W'], ['O', 'O', 'O']],\n",
       " [['Y', 'Y', 'B'], ['Y', 'Y', 'B'], ['Y', 'Y', 'B']]]"
      ]
     },
     "execution_count": 80,
     "metadata": {},
     "output_type": "execute_result"
    }
   ],
   "source": [
    "\n",
    "ex_cube.make_move('G','W','U')\n",
    "ex_cube.Rubic\n"
   ]
  },
  {
   "cell_type": "code",
   "execution_count": 81,
   "metadata": {},
   "outputs": [
    {
     "data": {
      "text/plain": [
       "[[['W', 'W', 'W'], ['W', 'W', 'W'], ['O', 'O', 'Y']],\n",
       " [['G', 'B', 'B'], ['G', 'R', 'R'], ['G', 'R', 'R']],\n",
       " [['G', 'G', 'R'], ['G', 'G', 'R'], ['Y', 'Y', 'R']],\n",
       " [['B', 'O', 'O'], ['Y', 'O', 'O'], ['Y', 'G', 'G']],\n",
       " [['B', 'B', 'W'], ['B', 'B', 'W'], ['O', 'O', 'O']],\n",
       " [['R', 'R', 'W'], ['Y', 'Y', 'B'], ['Y', 'Y', 'B']]]"
      ]
     },
     "execution_count": 81,
     "metadata": {},
     "output_type": "execute_result"
    }
   ],
   "source": [
    "ex_cube.make_move('G','W','F')\n",
    "ex_cube.Rubic"
   ]
  },
  {
   "cell_type": "code",
   "execution_count": 82,
   "metadata": {},
   "outputs": [
    {
     "data": {
      "text/plain": [
       "[[['W', 'W', 'W'], ['W', 'W', 'W'], ['O', 'O', 'Y']],\n",
       " [['G', 'B', 'B'], ['G', 'R', 'R'], ['Y', 'Y', 'R']],\n",
       " [['G', 'G', 'R'], ['G', 'G', 'R'], ['O', 'O', 'B']],\n",
       " [['B', 'B', 'W'], ['Y', 'O', 'O'], ['Y', 'G', 'G']],\n",
       " [['R', 'R', 'G'], ['B', 'B', 'W'], ['O', 'O', 'O']],\n",
       " [['Y', 'Y', 'R'], ['Y', 'Y', 'R'], ['B', 'B', 'W']]]"
      ]
     },
     "execution_count": 82,
     "metadata": {},
     "output_type": "execute_result"
    }
   ],
   "source": [
    "ex_cube.make_move('B','R','L')\n",
    "ex_cube.Rubic"
   ]
  },
  {
   "cell_type": "code",
   "execution_count": 83,
   "metadata": {},
   "outputs": [],
   "source": [
    "ex_cube.make_move('B','R','Li')"
   ]
  },
  {
   "cell_type": "code",
   "execution_count": 84,
   "metadata": {},
   "outputs": [],
   "source": [
    "ex_cube.make_move('G','W','Fi')\n",
    "ex_cube.make_move('G','W','Ui')\n",
    "ex_cube.make_move('G','W','Ri')"
   ]
  },
  {
   "cell_type": "code",
   "execution_count": 85,
   "metadata": {},
   "outputs": [
    {
     "data": {
      "text/plain": [
       "[[['W', 'W', 'W'], ['W', 'W', 'W'], ['W', 'W', 'W']],\n",
       " [['R', 'R', 'R'], ['R', 'R', 'R'], ['R', 'R', 'R']],\n",
       " [['G', 'G', 'G'], ['G', 'G', 'G'], ['G', 'G', 'G']],\n",
       " [['O', 'O', 'O'], ['O', 'O', 'O'], ['O', 'O', 'O']],\n",
       " [['B', 'B', 'B'], ['B', 'B', 'B'], ['B', 'B', 'B']],\n",
       " [['Y', 'Y', 'Y'], ['Y', 'Y', 'Y'], ['Y', 'Y', 'Y']]]"
      ]
     },
     "execution_count": 85,
     "metadata": {},
     "output_type": "execute_result"
    }
   ],
   "source": [
    "ex_cube.Rubic"
   ]
  },
  {
   "cell_type": "code",
   "execution_count": null,
   "metadata": {},
   "outputs": [],
   "source": []
  }
 ],
 "metadata": {
  "kernelspec": {
   "display_name": "Python 3",
   "language": "python",
   "name": "python3"
  },
  "language_info": {
   "codemirror_mode": {
    "name": "ipython",
    "version": 3
   },
   "file_extension": ".py",
   "mimetype": "text/x-python",
   "name": "python",
   "nbconvert_exporter": "python",
   "pygments_lexer": "ipython3",
   "version": "3.7.1"
  }
 },
 "nbformat": 4,
 "nbformat_minor": 2
}
