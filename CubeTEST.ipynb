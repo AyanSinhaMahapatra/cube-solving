{
 "cells": [
  {
   "cell_type": "code",
   "execution_count": 4,
   "metadata": {},
   "outputs": [],
   "source": [
    "cube_row = 3\n",
    "cube_column = 3\n",
    "cube_faces = 6\n",
    "\n",
    "class Cube:\n",
    "\n",
    "    Rubic = [[['W' for r in range(cube_row)] for c in range(cube_column)] for f in range(cube_faces)]\n",
    "\n",
    "    Rubic_W = [['W' for rw in range(cube_row)] for cw in range(cube_column)]\n",
    "    Rubic[0] = Rubic_W\n",
    "    Rubic_W_links={'UP':'B','DOWN':'G','LEFT':'O','RIGHT':'R','FRONT':'W','BACK':'Y'}\n",
    "    Rubic_W_adj = 'BRGOB'\n",
    "\n",
    "    Rubic_R = [['R' for rr in range(cube_row)] for cr in range(cube_column)]\n",
    "    Rubic[1] = Rubic_R\n",
    "    Rubic_R_links={'UP':'W','DOWN':'Y','LEFT':'G','RIGHT':'B','FRONT':'R','BACK':'O'}\n",
    "    Rubic_R_adj = 'WBYGW'\n",
    "\n",
    "    Rubic_G = [['G' for rg in range(cube_row)] for cg in range(cube_column)]\n",
    "    Rubic[2] = Rubic_G\n",
    "    Rubic_G_links={'UP':'W','DOWN':'Y','LEFT':'O','RIGHT':'R','FRONT':'G','BACK':'B'}\n",
    "    Rubic_G_adj = 'WRYOW'\n",
    "\n",
    "    Rubic_O = [['O' for ro in range(cube_row)] for co in range(cube_column)]\n",
    "    Rubic[3] = Rubic_O\n",
    "    Rubic_O_links={'UP':'Y','DOWN':'W','LEFT':'G','RIGHT':'B','FRONT':'O','BACK':'R'}\n",
    "    Rubic_O_adj = 'YBWGY'\n",
    "\n",
    "    Rubic_B = [['B' for rb in range(cube_row)] for cb in range(cube_column)]\n",
    "    Rubic[4] = Rubic_B\n",
    "    Rubic_B_links={'UP':'Y','DOWN':'W','LEFT':'O','RIGHT':'R','FRONT':'B','BACK':'G'}\n",
    "    Rubic_B_adj = 'YRWOY'\n",
    "\n",
    "    Rubic_Y = [['Y' for ry in range(cube_row)] for cy in range(cube_column)]\n",
    "    Rubic[5] = Rubic_Y\n",
    "    Rubic_Y_links={'UP':'G','DOWN':'B','LEFT':'O','RIGHT':'R','FRONT':'Y','BACK':'W'}\n",
    "    Rubic_Y_adj = 'GRBOG'\n",
    "\n",
    "    move_center = [['E' for rm in range(cube_row)] for cm in range(cube_column)]\n",
    "    move_side = [['E' for rms in range(cube_row)] for cms in range(cube_column+1)]\n",
    "    move_ref = {'UP':'E','DOWN':'E','LEFT':'E','RIGHT':'E','FRONT' : 'E','BACK' : 'E'}\n",
    "    move_center_id = 'E'\n",
    "    move_dir = 'E'\n",
    "    move_conversion = {'U':'UP','D':'DOWN','L':'LEFT','R':'RIGHT','F':'FRONT','B':'BACK'}\n",
    "\n",
    "    def print_Cube(self):\n",
    "\n",
    "        print(self.Rubic_W[0]); print(self.Rubic_W[1]); print(self.Rubic_W[2])\n",
    "        print(\"\\n\")\n",
    "        print(self.Rubic_R[0]); print(self.Rubic_R[1]); print(self.Rubic_R[2])\n",
    "        print(\"\\n\")\n",
    "        print(self.Rubic_G[0]); print(self.Rubic_G[1]); print(self.Rubic_G[2])\n",
    "        print(\"\\n\")\n",
    "        print(self.Rubic_O[0]); print(self.Rubic_O[1]); print(self.Rubic_O[2])\n",
    "        print(\"\\n\")\n",
    "        print(self.Rubic_B[0]); print(self.Rubic_B[1]); print(self.Rubic_B[2])\n",
    "        print(\"\\n\")\n",
    "        print(self.Rubic_Y[0]); print(self.Rubic_Y[1]); print(self.Rubic_Y[2])\n",
    "        print(\"\\n\")\n",
    "\n",
    "\n",
    "    def get_opp_center_block(self,center_block_id):\n",
    "\n",
    "        switcher = {\n",
    "            'W': 'Y',\n",
    "            'R': 'O',\n",
    "            'G': 'B',\n",
    "            'O': 'R',\n",
    "            'B': 'G',\n",
    "            'Y': 'W',\n",
    "        }\n",
    "\n",
    "        return switcher.get(center_block_id, \"E\")\n",
    "\n",
    "\n",
    "    def get_right_or_left_center_block(self,request ,ref_center,ref_up_center):\n",
    "\n",
    "        right_center = 'E'\n",
    "        left_center = 'E'\n",
    "        switcher = {\n",
    "            'W': Cube.Rubic_W_adj,\n",
    "            'R': Cube.Rubic_R_adj,\n",
    "            'G': Cube.Rubic_G_adj,\n",
    "            'O': Cube.Rubic_O_adj,\n",
    "            'B': Cube.Rubic_B_adj,\n",
    "            'Y': Cube.Rubic_Y_adj,\n",
    "        }\n",
    "        adj_squares = switcher.get(ref_center, \"E\")\n",
    "        for elements in range(5):\n",
    "            if ref_up_center is adj_squares[elements]:\n",
    "                right_center = adj_squares[elements + 1]\n",
    "                left_center = adj_squares[elements - 1]\n",
    "                if elements is 0:\n",
    "                    left_center = adj_squares[3]\n",
    "                break\n",
    "        if request is 'RIGHT':\n",
    "            return right_center\n",
    "        elif request is 'LEFT':\n",
    "            return left_center\n",
    "\n",
    "\n",
    "    def make_move(self,ref_center,ref_up_center,move_id_given):\n",
    "        self.move_dir = 'C'\n",
    "        move_id_make = move_id_given[0]\n",
    "        \n",
    "        if len(move_id_given) is 2:\n",
    "            self.move_dir = 'A'\n",
    "\n",
    "        self.move_ref['FRONT'] = ref_center\n",
    "        self.move_ref['BACK'] = self.get_opp_center_block(ref_center)\n",
    "        self.move_ref['UP'] = ref_up_center\n",
    "        self.move_ref['DOWN'] = self.get_opp_center_block(ref_up_center)\n",
    "        self.move_ref['LEFT'] = self.get_right_or_left_center_block('LEFT',ref_center,ref_up_center)\n",
    "        self.move_ref['RIGHT'] = self.get_right_or_left_center_block('RIGHT',ref_center,ref_up_center)\n",
    "        \n",
    "        self.move_center_id = self.move_ref[self.move_conversion[move_id_make]]\n",
    "        \n",
    "        print(self.move_ref)\n",
    "        print(self.move_dir)\n",
    "        print(self.move_center_id)\n",
    "        print(self.move_center)\n",
    "        print(self.move_side)\n"
   ]
  },
  {
   "cell_type": "code",
   "execution_count": 5,
   "metadata": {},
   "outputs": [
    {
     "name": "stdout",
     "output_type": "stream",
     "text": [
      "{'UP': 'R', 'DOWN': 'O', 'LEFT': 'G', 'RIGHT': 'B', 'FRONT': 'Y', 'BACK': 'W'}\n",
      "C\n",
      "O\n",
      "[['E', 'E', 'E'], ['E', 'E', 'E'], ['E', 'E', 'E']]\n",
      "[['E', 'E', 'E'], ['E', 'E', 'E'], ['E', 'E', 'E'], ['E', 'E', 'E']]\n"
     ]
    }
   ],
   "source": [
    "Another_cube=Cube()\n",
    "Cube.make_move(Another_cube,'Y','R','D')"
   ]
  },
  {
   "cell_type": "code",
   "execution_count": null,
   "metadata": {},
   "outputs": [],
   "source": [
    "Cube.Rubic_W = [['Y', 'G', 'W'], ['O', 'B', 'Y'], ['O', 'W', 'R']]"
   ]
  },
  {
   "cell_type": "code",
   "execution_count": null,
   "metadata": {},
   "outputs": [],
   "source": [
    "Cube.move_center = Cube.Rubic_W\n",
    "\n",
    "print(Cube.move_center[0])\n",
    "print(Cube.move_center[1])\n",
    "print(Cube.move_center[2])"
   ]
  },
  {
   "cell_type": "code",
   "execution_count": 6,
   "metadata": {},
   "outputs": [],
   "source": [
    "wetgyu = 1"
   ]
  },
  {
   "cell_type": "code",
   "execution_count": null,
   "metadata": {},
   "outputs": [],
   "source": [
    "cent_index = [[2,0,0,0],[1,0,0,1],[0,0,0,2],[0,1,1,2],[0,2,2,2],[1,2,2,1],[2,2,2,0],[2,1,1,0],[1,1,1,1]]\n",
    "\n",
    "for index in range(0,9): \n",
    "    Cube.Rubic_W[cent_index[index][0]][cent_index[index][1]] = Cube.move_center[cent_index[index][2]][cent_index[index][3]]\n",
    "\n",
    "print(Cube.Rubic_W[0])\n",
    "print(Cube.Rubic_W[1])\n",
    "print(Cube.Rubic_W[2])"
   ]
  },
  {
   "cell_type": "code",
   "execution_count": 12,
   "metadata": {},
   "outputs": [
    {
     "name": "stdout",
     "output_type": "stream",
     "text": [
      "1\n"
     ]
    }
   ],
   "source": [
    "if(wetgyu is 1):\n",
    "    print(1)\n",
    "elif(wetgyu is 2):\n",
    "    print(2)"
   ]
  },
  {
   "cell_type": "code",
   "execution_count": null,
   "metadata": {},
   "outputs": [],
   "source": []
  }
 ],
 "metadata": {
  "kernelspec": {
   "display_name": "Python 3",
   "language": "python",
   "name": "python3"
  },
  "language_info": {
   "codemirror_mode": {
    "name": "ipython",
    "version": 3
   },
   "file_extension": ".py",
   "mimetype": "text/x-python",
   "name": "python",
   "nbconvert_exporter": "python",
   "pygments_lexer": "ipython3",
   "version": "3.7.0"
  }
 },
 "nbformat": 4,
 "nbformat_minor": 2
}
