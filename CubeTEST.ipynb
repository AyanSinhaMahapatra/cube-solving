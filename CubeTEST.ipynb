{
 "cells": [
  {
   "cell_type": "code",
   "execution_count": 2,
   "metadata": {},
   "outputs": [],
   "source": [
    "cube_row = 3\n",
    "cube_column = 3\n",
    "\n",
    "move_center = [['E' for rm in range(cube_row)] for cm in range(cube_column)]\n",
    "move_side = [['E' for rms in range(cube_row)] for cms in range(cube_column+1)]"
   ]
  },
  {
   "cell_type": "code",
   "execution_count": 14,
   "metadata": {},
   "outputs": [
    {
     "data": {
      "text/plain": [
       "'E'"
      ]
     },
     "execution_count": 14,
     "metadata": {},
     "output_type": "execute_result"
    }
   ],
   "source": [
    "move_center[2][2]\n"
   ]
  },
  {
   "cell_type": "code",
   "execution_count": 19,
   "metadata": {},
   "outputs": [
    {
     "data": {
      "text/plain": [
       "{'CENTER': 'E', 'DOWN': 'E', 'LEFT': 'E', 'RIGHT': 'E', 'UP': 'E'}"
      ]
     },
     "execution_count": 19,
     "metadata": {},
     "output_type": "execute_result"
    }
   ],
   "source": [
    "move_ref = {'UP':'E','DOWN':'E','LEFT':'E','RIGHT':'E','CENTER' : 'E'}\n",
    "move_ref"
   ]
  },
  {
   "cell_type": "code",
   "execution_count": 20,
   "metadata": {},
   "outputs": [
    {
     "data": {
      "text/plain": [
       "{'CENTER': 'E', 'DOWN': 'E', 'LEFT': 'E', 'RIGHT': 'E', 'UP': 'E'}"
      ]
     },
     "execution_count": 20,
     "metadata": {},
     "output_type": "execute_result"
    }
   ],
   "source": [
    "move_ref['UP'] = 'E'\n",
    "move_ref['DOWN'] = 'E'\n",
    "move_ref['LEFT'] = 'E'\n",
    "move_ref['RIGHT'] = 'E'\n",
    "move_ref['CENTER'] = 'E'\n",
    "\n",
    "move_ref"
   ]
  },
  {
   "cell_type": "code",
   "execution_count": 22,
   "metadata": {},
   "outputs": [],
   "source": [
    "def get_opp_center_block(center_block_id):\n",
    "        switcher = {\n",
    "            'W': 'Y',\n",
    "            'R': 'O',\n",
    "            'G': 'B',\n",
    "            'O': 'R',\n",
    "            'B': 'G',\n",
    "            'Y': 'W',\n",
    "        }\n",
    "        return switcher.get(center_block_id, \"E\")"
   ]
  },
  {
   "cell_type": "code",
   "execution_count": 24,
   "metadata": {},
   "outputs": [
    {
     "data": {
      "text/plain": [
       "'E'"
      ]
     },
     "execution_count": 24,
     "metadata": {},
     "output_type": "execute_result"
    }
   ],
   "source": [
    "get_opp_center_block('T')"
   ]
  },
  {
   "cell_type": "code",
   "execution_count": 36,
   "metadata": {},
   "outputs": [
    {
     "name": "stdout",
     "output_type": "stream",
     "text": [
      "2\n",
      "D\n",
      "1\n"
     ]
    }
   ],
   "source": [
    "if_inv = 0\n",
    "move_id_given = 'Di'\n",
    "\n",
    "move_id_make = move_id_given[0]\n",
    "\n",
    "if len(move_id_given) is 2:\n",
    "    if_inv = 1\n",
    "    \n",
    "print(len(move_id_given))\n",
    "print(move_id_make)\n",
    "print(if_inv)\n",
    "\n",
    "\n"
   ]
  },
  {
   "cell_type": "code",
   "execution_count": null,
   "metadata": {},
   "outputs": [],
   "source": []
  },
  {
   "cell_type": "code",
   "execution_count": null,
   "metadata": {},
   "outputs": [],
   "source": []
  }
 ],
 "metadata": {
  "kernelspec": {
   "display_name": "Python 2",
   "language": "python",
   "name": "python2"
  },
  "language_info": {
   "codemirror_mode": {
    "name": "ipython",
    "version": 3
   },
   "file_extension": ".py",
   "mimetype": "text/x-python",
   "name": "python",
   "nbconvert_exporter": "python",
   "pygments_lexer": "ipython3",
   "version": "3.6.4"
  }
 },
 "nbformat": 4,
 "nbformat_minor": 2
}
